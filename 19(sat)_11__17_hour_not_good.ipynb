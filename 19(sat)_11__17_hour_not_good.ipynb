{
  "nbformat": 4,
  "nbformat_minor": 0,
  "metadata": {
    "colab": {
      "private_outputs": true,
      "provenance": [],
      "authorship_tag": "ABX9TyPzB21RrIM0T4EVhnrzQwP/",
      "include_colab_link": true
    },
    "kernelspec": {
      "name": "python3",
      "display_name": "Python 3"
    },
    "language_info": {
      "name": "python"
    },
    "accelerator": "GPU",
    "gpuClass": "standard"
  },
  "cells": [
    {
      "cell_type": "markdown",
      "metadata": {
        "id": "view-in-github",
        "colab_type": "text"
      },
      "source": [
        "<a href=\"https://colab.research.google.com/github/hwankang/Deep-Chemometrics/blob/master/19(sat)_11__17_hour_not_good.ipynb\" target=\"_parent\"><img src=\"https://colab.research.google.com/assets/colab-badge.svg\" alt=\"Open In Colab\"/></a>"
      ]
    },
    {
      "cell_type": "code",
      "execution_count": null,
      "metadata": {
        "id": "MnJEkLDrZvxJ"
      },
      "outputs": [],
      "source": [
        "import pandas as pd\n",
        "import numpy as np"
      ]
    },
    {
      "cell_type": "code",
      "source": [
        "from google.colab import drive\n",
        "drive.mount('/content/drive')\n",
        "filename='/content/drive/MyDrive/machine_learning/123_Raman_DATA_csv.csv'\n",
        "import pandas as pd\n",
        "X2_df = pd.read_csv(filename)\n",
        "X2_df"
      ],
      "metadata": {
        "id": "DVDvN5vhZ879"
      },
      "execution_count": null,
      "outputs": []
    },
    {
      "cell_type": "code",
      "source": [
        "X3_df=X2_df.iloc[:,5:]\n",
        "X3_df"
      ],
      "metadata": {
        "id": "hYd3zbASarho"
      },
      "execution_count": null,
      "outputs": []
    },
    {
      "cell_type": "code",
      "source": [
        "fifth=int(X3_df.shape[0]*0.2)+1\n",
        "#1\n",
        "X_df_1=X3_df.iloc[0:fifth,:]\n",
        "X_df_2=X3_df.iloc[fifth:2*fifth,:]\n",
        "X_df_3=X3_df.iloc[fifth*2:fifth*3,:]\n",
        "X_df_4=X3_df.iloc[fifth*3:fifth*4,:]\n",
        "X_df_5=X3_df.iloc[fifth*4:,:]\n",
        "X_df_1234=X_df_1.append(X_df_2).append(X_df_3).append(X_df_4)\n",
        "X_df=X_df_1234\n",
        "X_df_test=X_df_5\n",
        "X_df_test.shape # 90 3326\n",
        "X_df_123=X_df_1.append(X_df_2).append(X_df_3)\n",
        "X_train_df=X_df_123\n",
        "X_val_df=X_df_4\n",
        "X_test_df=X_df_test"
      ],
      "metadata": {
        "id": "8LEU-WCDa-pU"
      },
      "execution_count": null,
      "outputs": []
    },
    {
      "cell_type": "code",
      "source": [
        "#2\n",
        "X_df_1=X3_df.iloc[0:fifth,:]\n",
        "X_df_2=X3_df.iloc[fifth:2*fifth,:]\n",
        "X_df_3=X3_df.iloc[fifth*2:fifth*3,:]\n",
        "X_df_4=X3_df.iloc[fifth*3:fifth*4,:]\n",
        "X_df_5=X3_df.iloc[fifth*4:,:]\n",
        "X_df_1235=X_df_1.append(X_df_2).append(X_df_3).append(X_df_5)\n",
        "X_df=X_df_1235\n",
        "X_df_test=X_df_4\n",
        "X_train_df=X_df_1.append(X_df_2).append(X_df_5)\n",
        "X_val_df=X_df_3\n",
        "X_test_df=X_df_test"
      ],
      "metadata": {
        "id": "8MdCbzmla51N"
      },
      "execution_count": null,
      "outputs": []
    },
    {
      "cell_type": "code",
      "source": [
        "#3\n",
        "X_df_1=X3_df.iloc[0:fifth,:]\n",
        "X_df_2=X3_df.iloc[fifth:2*fifth,:]\n",
        "X_df_3=X3_df.iloc[fifth*2:fifth*3,:]\n",
        "X_df_4=X3_df.iloc[fifth*3:fifth*4,:]\n",
        "X_df_5=X3_df.iloc[fifth*4:,:]\n",
        "X_df_1245=X_df_1.append(X_df_2).append(X_df_4).append(X_df_5)\n",
        "X_df=X_df_1245\n",
        "X_df_test=X_df_3\n",
        "X_train_df=X_df_1.append(X_df_4).append(X_df_5)\n",
        "X_val_df=X_df_2\n",
        "X_test_df=X_df_test"
      ],
      "metadata": {
        "id": "UW7uvUzFdrfY"
      },
      "execution_count": null,
      "outputs": []
    },
    {
      "cell_type": "code",
      "source": [
        "#4\n",
        "X_df_1=X3_df.iloc[0:fifth,:]\n",
        "X_df_2=X3_df.iloc[fifth:2*fifth,:]\n",
        "X_df_3=X3_df.iloc[fifth*2:fifth*3,:]\n",
        "X_df_4=X3_df.iloc[fifth*3:fifth*4,:]\n",
        "X_df_5=X3_df.iloc[fifth*4:,:]\n",
        "X_df_1345=X_df_1.append(X_df_3).append(X_df_4).append(X_df_5)\n",
        "X_df=X_df_1345\n",
        "X_df_test=X_df_2\n",
        "X_train_df=X_df_3.append(X_df_4).append(X_df_5)\n",
        "X_val_df=X_df_1\n",
        "X_test_df=X_df_test"
      ],
      "metadata": {
        "id": "M6xFXla1efXp"
      },
      "execution_count": null,
      "outputs": []
    },
    {
      "cell_type": "code",
      "source": [
        "#5\n",
        "X_df_1=X3_df.iloc[0:fifth,:]\n",
        "X_df_2=X3_df.iloc[fifth:2*fifth,:]\n",
        "X_df_3=X3_df.iloc[fifth*2:fifth*3,:]\n",
        "X_df_4=X3_df.iloc[fifth*3:fifth*4,:]\n",
        "X_df_5=X3_df.iloc[fifth*4:,:]\n",
        "X_df_2345=X_df_2.append(X_df_3).append(X_df_4).append(X_df_5)\n",
        "X_df=X_df_2345\n",
        "X_df_test=X_df_1\n",
        "X_train_df=X_df_2.append(X_df_3).append(X_df_4)\n",
        "X_val_df=X_df_5\n",
        "X_test_df=X_df_test"
      ],
      "metadata": {
        "id": "JHGo-jB1euaQ"
      },
      "execution_count": null,
      "outputs": []
    },
    {
      "cell_type": "code",
      "source": [
        "Y3_df=X2_df.iloc[:,2:5]\n",
        "Y3_df"
      ],
      "metadata": {
        "id": "_72mFXYGfDUc"
      },
      "execution_count": null,
      "outputs": []
    },
    {
      "cell_type": "code",
      "source": [
        "#1\n",
        "Y_df_1=Y3_df.iloc[0:fifth,:]\n",
        "Y_df_2=Y3_df.iloc[fifth:2*fifth,:]\n",
        "Y_df_3=Y3_df.iloc[fifth*2:fifth*3,:]\n",
        "Y_df_4=Y3_df.iloc[fifth*3:fifth*4,:]\n",
        "Y_df_5=Y3_df.iloc[fifth*4:,:]\n",
        "Y_df_1234=Y_df_1.append(Y_df_2).append(Y_df_3).append(Y_df_4)\n",
        "Y_df=Y_df_1234\n",
        "Y_df_true=Y_df_5\n",
        "Y_df_true\n",
        "y_train_df=Y_df_1.append(Y_df_2).append(Y_df_3)\n",
        "y_val_df=Y_df_4\n",
        "y_test_df=Y_df_true"
      ],
      "metadata": {
        "id": "S7t5nHYwfOFa"
      },
      "execution_count": null,
      "outputs": []
    },
    {
      "cell_type": "code",
      "source": [
        "#2 \n",
        "Y_df_1=Y3_df.iloc[0:fifth,:]\n",
        "Y_df_2=Y3_df.iloc[fifth:2*fifth,:]\n",
        "Y_df_3=Y3_df.iloc[fifth*2:fifth*3,:]\n",
        "Y_df_4=Y3_df.iloc[fifth*3:fifth*4,:]\n",
        "Y_df_5=Y3_df.iloc[fifth*4:,:]\n",
        "Y_df_1235=Y_df_1.append(Y_df_2).append(Y_df_3).append(Y_df_5)\n",
        "Y_df=Y_df_1235\n",
        "Y_df_true=Y_df_4\n",
        "Y_df_true\n",
        "y_train_df=Y_df_1.append(Y_df_2).append(Y_df_5)\n",
        "y_val_df=Y_df_3\n",
        "y_test_df=Y_df_true"
      ],
      "metadata": {
        "id": "cwiWcRbjgCdw"
      },
      "execution_count": null,
      "outputs": []
    },
    {
      "cell_type": "code",
      "source": [
        "#3\n",
        "Y_df_1=Y3_df.iloc[0:fifth,:]\n",
        "Y_df_2=Y3_df.iloc[fifth:2*fifth,:]\n",
        "Y_df_3=Y3_df.iloc[fifth*2:fifth*3,:]\n",
        "Y_df_4=Y3_df.iloc[fifth*3:fifth*4,:]\n",
        "Y_df_5=Y3_df.iloc[fifth*4:,:]\n",
        "Y_df_1245=Y_df_1.append(Y_df_2).append(Y_df_4).append(Y_df_5)\n",
        "Y_df=Y_df_1245\n",
        "Y_df_true=Y_df_3\n",
        "Y_df_true\n",
        "y_train_df=Y_df_1.append(Y_df_4).append(Y_df_5)\n",
        "y_val_df=Y_df_2\n",
        "y_test_df=Y_df_true"
      ],
      "metadata": {
        "id": "LbYl-rYBgZ5G"
      },
      "execution_count": null,
      "outputs": []
    },
    {
      "cell_type": "code",
      "source": [
        "#4\n",
        "Y_df_1=Y3_df.iloc[0:fifth,:]\n",
        "Y_df_2=Y3_df.iloc[fifth:2*fifth,:]\n",
        "Y_df_3=Y3_df.iloc[fifth*2:fifth*3,:]\n",
        "Y_df_4=Y3_df.iloc[fifth*3:fifth*4,:]\n",
        "Y_df_5=Y3_df.iloc[fifth*4:,:]\n",
        "Y_df_1345=Y_df_1.append(Y_df_3).append(Y_df_4).append(Y_df_5)\n",
        "Y_df=Y_df_1345\n",
        "Y_df_true=Y_df_2\n",
        "Y_df_true\n",
        "y_train_df=Y_df_3.append(Y_df_4).append(Y_df_5)\n",
        "y_val_df=Y_df_1\n",
        "y_test_df=Y_df_true"
      ],
      "metadata": {
        "id": "pmfzFl2Sglzl"
      },
      "execution_count": null,
      "outputs": []
    },
    {
      "cell_type": "code",
      "source": [
        "#5\n",
        "Y_df_1=Y3_df.iloc[0:fifth,:]\n",
        "Y_df_2=Y3_df.iloc[fifth:2*fifth,:]\n",
        "Y_df_3=Y3_df.iloc[fifth*2:fifth*3,:]\n",
        "Y_df_4=Y3_df.iloc[fifth*3:fifth*4,:]\n",
        "Y_df_5=Y3_df.iloc[fifth*4:,:]\n",
        "Y_df_2345=Y_df_2.append(Y_df_3).append(Y_df_4).append(Y_df_5)\n",
        "Y_df=Y_df_2345\n",
        "Y_df_true=Y_df_1\n",
        "Y_df_true\n",
        "y_train_df=Y_df_2.append(Y_df_3).append(Y_df_4)\n",
        "y_val_df=Y_df_5\n",
        "y_test_df=Y_df_true"
      ],
      "metadata": {
        "id": "dpujUGZ5gu6j"
      },
      "execution_count": null,
      "outputs": []
    },
    {
      "cell_type": "code",
      "source": [
        "X_train_a=X_train_df.values\n",
        "X_val_a=X_val_df.values\n",
        "X_test_a=X_test_df.values\n",
        "y_train=y_train_df.values\n",
        "y_val=y_val_df.values\n",
        "y_test=y_test_df.values\n"
      ],
      "metadata": {
        "id": "WM3bLnd8jadu"
      },
      "execution_count": null,
      "outputs": []
    },
    {
      "cell_type": "code",
      "source": [
        "X_train=X_train_a\n",
        "X_val=X_val_a\n",
        "X_test=X_test_a"
      ],
      "metadata": {
        "id": "K62PDofBg6y7"
      },
      "execution_count": null,
      "outputs": []
    },
    {
      "cell_type": "code",
      "source": [
        "import numpy as np\n",
        "t=np.linspace(1,4,4)\n",
        "tt=np.linspace(2,5,4)\n",
        "t2=np.array([[1,2,3,4],\n",
        "             [2,3,4,5]])\n",
        "t2"
      ],
      "metadata": {
        "id": "vZz272j4qzeP"
      },
      "execution_count": null,
      "outputs": []
    },
    {
      "cell_type": "code",
      "source": [
        "def min_max_normalize(lst):\n",
        "    normalized = []\n",
        "    \n",
        "    for value in lst:\n",
        "        normalized_num = (value - min(lst)) / (max(lst) - min(lst))\n",
        "        normalized.append(normalized_num)\n",
        "    \n",
        "    return normalized"
      ],
      "metadata": {
        "id": "4hQWWr5K4Gch"
      },
      "execution_count": null,
      "outputs": []
    },
    {
      "cell_type": "code",
      "source": [
        "one(1,3)"
      ],
      "metadata": {
        "id": "Ujj-MYHF5Rdf"
      },
      "execution_count": null,
      "outputs": []
    },
    {
      "cell_type": "code",
      "source": [
        "def scale(t2):\n",
        "    nor=[]\n",
        "    for i in range(t2.shape[0]):\n",
        "        nor_x=t2[i,:]-t2[i,:].mean()*np.ones_like(t2[i,:])\n",
        "        nor.append(nor_x)\n",
        "    return nor"
      ],
      "metadata": {
        "id": "bcSPdGdv4Q73"
      },
      "execution_count": null,
      "outputs": []
    },
    {
      "cell_type": "code",
      "source": [
        "scale(t2)"
      ],
      "metadata": {
        "id": "jfpeJNg56wV7"
      },
      "execution_count": null,
      "outputs": []
    },
    {
      "cell_type": "code",
      "source": [
        "from sklearn.preprocessing import StandardScaler\n",
        "std = StandardScaler()\n",
        "std.fit(t2)\n",
        "t3=std.transform(t2)\n",
        "t3"
      ],
      "metadata": {
        "id": "aLyDpCfx0ihX"
      },
      "execution_count": null,
      "outputs": []
    },
    {
      "cell_type": "code",
      "source": [
        "t2.mean(axis=0)"
      ],
      "metadata": {
        "id": "LTkp1g05yfCe"
      },
      "execution_count": null,
      "outputs": []
    },
    {
      "cell_type": "code",
      "source": [
        "t2.mean(axis=1)"
      ],
      "metadata": {
        "id": "VFUppat5yzRp"
      },
      "execution_count": null,
      "outputs": []
    },
    {
      "cell_type": "code",
      "source": [
        "t3=t2-np.mean(t2,axis=1)\n",
        "t3"
      ],
      "metadata": {
        "id": "nciokUlBzFVq"
      },
      "execution_count": null,
      "outputs": []
    },
    {
      "cell_type": "code",
      "source": [
        "from sklearn.preprocessing import StandardScaler\n",
        "std = StandardScaler()\n",
        "std.fit(t2.T)\n",
        "t3=std.transform(t2.T)\n",
        "t3.T"
      ],
      "metadata": {
        "id": "fPoAaH4eune0"
      },
      "execution_count": null,
      "outputs": []
    },
    {
      "cell_type": "code",
      "source": [
        "t2.mean(axis=0)"
      ],
      "metadata": {
        "id": "YdA-3JUeszc0"
      },
      "execution_count": null,
      "outputs": []
    },
    {
      "cell_type": "code",
      "source": [
        "from sklearn.preprocessing import StandardScaler\n",
        "std = StandardScaler()\n",
        "std.fit(X_train_a)\n",
        "X_train=std.transform(X_train_a)\n",
        "std.fit(X_val_a)\n",
        "X_val=std.transform(X_val_a)\n",
        "std.fit(X_test_a)\n",
        "X_test=std.transform(X_test_a)"
      ],
      "metadata": {
        "id": "ENLOLcxJkUek"
      },
      "execution_count": null,
      "outputs": []
    },
    {
      "cell_type": "code",
      "source": [
        "import matplotlib.pyplot as plt\n",
        "%matplotlib inline\n",
        "axisscale=np.linspace(100,3425,3326)\n",
        "plt.plot(axisscale,X_train.T)\n",
        "plt.show()"
      ],
      "metadata": {
        "id": "VCBnfYbhhbbW"
      },
      "execution_count": null,
      "outputs": []
    },
    {
      "cell_type": "code",
      "source": [
        "import keras\n",
        "from keras.models import Sequential\n",
        "from keras.layers import Dense, Dropout, Flatten\n",
        "from keras.layers import Conv1D, Reshape#, MaxPooling1D\n",
        "from keras.callbacks import ReduceLROnPlateau\n",
        "from keras.layers.noise import GaussianNoise"
      ],
      "metadata": {
        "id": "0bSmIjOonizZ"
      },
      "execution_count": null,
      "outputs": []
    },
    {
      "cell_type": "code",
      "source": [
        "#Hyperparameters for the network\n",
        "DENSE = 128\n",
        "#DROPOUT = 0.5\n",
        "DROPOUT = 0.1\n",
        "DROPOUT = 0.4\n",
        "DROPOUT = 0.3\n",
        "DROPOUT = 0.2\n",
        "DROPOUT = 0.25\n",
        "C1_K  = 8 #Number of kernels/feature extractors for first layer\n",
        "C1_S  = 32 #Width of the convolutional mini networks\n",
        "C2_K  = 16\n",
        "C2_S  = 32\n",
        "\n",
        "activation='relu'\n",
        "\n",
        "input_dim = X_train.shape[1]\n",
        "\n",
        "#The model\n",
        "def make_model():\n",
        "    model = Sequential()\n",
        "    #Adding a bit of GaussianNoise also works as regularization\n",
        "    #model.add(GaussianNoise(0.05, input_shape=(input_dim,)))\n",
        "    #model.add(GaussianNoise(0.005, input_shape=(input_dim,)))\n",
        "    model.add(GaussianNoise(0.05, input_shape=(input_dim,)))\n",
        "    #First two is number of filter + kernel size\n",
        "    model.add(Reshape((input_dim, 1)))\n",
        "    #model.add(Conv1D(C1_K, (C1_S), activation=activation, border_mode='same'))\n",
        "    #model.add(Conv1D(C2_K, (C2_S), border_mode='same', activation=activation))\n",
        "    model.add(Conv1D(C1_K, (C1_S), activation=activation, padding='same'))\n",
        "    model.add(Conv1D(C2_K, (C2_S), padding='same', activation=activation))\n",
        "    model.add(Flatten())\n",
        "    model.add(Dropout(DROPOUT))\n",
        "    model.add(Dense(DENSE, activation=activation))\n",
        "    model.add(Dense(3, activation='linear'))\n",
        "\n",
        "    #model.compile(loss='mse', optimizer=keras.optimizers.Adadelta(lr=0.01))#, metrics=['mean_absolute_error'])\n",
        "    model.compile(loss='mse', optimizer=keras.optimizers.Adam(lr=0.05))#, metrics=['mean_absolute_error'])\n",
        "\n",
        "    return model"
      ],
      "metadata": {
        "id": "lWWSCc4_nl-9"
      },
      "execution_count": null,
      "outputs": []
    },
    {
      "cell_type": "code",
      "source": [
        "model = make_model()\n",
        "print(model.summary())"
      ],
      "metadata": {
        "id": "XAuEn4H2n_G6"
      },
      "execution_count": null,
      "outputs": []
    },
    {
      "cell_type": "code",
      "source": [
        "#h = model.fit(X_train, y_train, epochs=400, batch_size=8, validation_data=(X_val, y_val))\n",
        "#h = model.fit(X_train, y_train, epochs=400, batch_size=20, validation_data=(X_val, y_val))\n",
        "#h = model.fit(X_train, y_train, epochs=400, batch_size=8, validation_data=(X_val, y_val))\n",
        "h = model.fit(X_train, y_train, epochs=400, batch_size=8, validation_data=(X_val, y_val))"
      ],
      "metadata": {
        "id": "jDtlGgWcoF-u"
      },
      "execution_count": null,
      "outputs": []
    },
    {
      "cell_type": "code",
      "source": [
        "#import matplotlib.psplot as plt\n",
        "import matplotlib.pyplot as plt\n",
        "plt.plot(h.history['loss'], label='loss')\n",
        "plt.plot(h.history['val_loss'], label='val_loss')\n",
        "\n",
        "plt.yscale('log')\n",
        "plt.ylabel('Loss')\n",
        "plt.xlabel('Epochs')\n",
        "plt.legend()\n",
        "ax2 = plt.gca().twinx()\n",
        "ax2.plot(h.history['lr'], color='r')\n",
        "ax2.set_ylabel('lr',color='r')\n",
        "\n",
        "_ = plt.legend()"
      ],
      "metadata": {
        "id": "k77HVrF8ogI6"
      },
      "execution_count": null,
      "outputs": []
    },
    {
      "cell_type": "code",
      "source": [
        "plt.scatter(y_train, model.predict(X_train))\n",
        "plt.scatter(y_val, model.predict(X_val))\n",
        "plt.plot([0,30],[0,30]) # Y = PredY line"
      ],
      "metadata": {
        "id": "KvyEGCxdonxY"
      },
      "execution_count": null,
      "outputs": []
    },
    {
      "cell_type": "code",
      "source": [
        "pred_Y_df=model.predict(X_test)\n",
        "Y_df_true=y_test"
      ],
      "metadata": {
        "id": "PVjfd0rNo5IV"
      },
      "execution_count": null,
      "outputs": []
    },
    {
      "cell_type": "code",
      "source": [
        "from sklearn.metrics import mean_squared_error, r2_score\n",
        "mse= mean_squared_error(Y_df_true, pred_Y_df)\n",
        "rmse=np.sqrt(mse)\n",
        "r2=r2_score(Y_df_true, pred_Y_df)\n",
        "print('MSE : {: 0.3f}, || RMSE : {: 0.3f}, || R2 : {: 0.3f}'.format(mse,rmse,r2))"
      ],
      "metadata": {
        "id": "1xsunxbZo9UN"
      },
      "execution_count": null,
      "outputs": []
    },
    {
      "cell_type": "code",
      "source": [
        "Y_df_true\n"
      ],
      "metadata": {
        "id": "1KNz67ewmlgq"
      },
      "execution_count": null,
      "outputs": []
    },
    {
      "cell_type": "code",
      "source": [
        "pred_Y_df"
      ],
      "metadata": {
        "id": "iL8kU9tMd0eF"
      },
      "execution_count": null,
      "outputs": []
    },
    {
      "cell_type": "code",
      "source": [
        "X_test.shape"
      ],
      "metadata": {
        "id": "QFc8UoAaec4n"
      },
      "execution_count": null,
      "outputs": []
    },
    {
      "cell_type": "code",
      "source": [],
      "metadata": {
        "id": "0arWtfz4fJ7U"
      },
      "execution_count": null,
      "outputs": []
    }
  ]
}