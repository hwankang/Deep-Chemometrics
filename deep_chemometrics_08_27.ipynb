{
  "nbformat": 4,
  "nbformat_minor": 0,
  "metadata": {
    "colab": {
      "name": "deep_chemometrics_08_27.ipynb",
      "private_outputs": true,
      "provenance": [],
      "collapsed_sections": [],
      "authorship_tag": "ABX9TyNBXHhokvxmV28pf+agDdTQ",
      "include_colab_link": true
    },
    "kernelspec": {
      "name": "python3",
      "display_name": "Python 3"
    },
    "language_info": {
      "name": "python"
    }
  },
  "cells": [
    {
      "cell_type": "markdown",
      "metadata": {
        "id": "view-in-github",
        "colab_type": "text"
      },
      "source": [
        "<a href=\"https://colab.research.google.com/github/hwankang/Deep-Chemometrics/blob/master/deep_chemometrics_08_27.ipynb\" target=\"_parent\"><img src=\"https://colab.research.google.com/assets/colab-badge.svg\" alt=\"Open In Colab\"/></a>"
      ]
    },
    {
      "cell_type": "code",
      "execution_count": null,
      "metadata": {
        "id": "ROeaAXXxKeTm"
      },
      "outputs": [],
      "source": [
        "!pip uninstall -y tensorflow keras\n",
        "!git clone https://github.com/EBjerrum/Deep-Chemometrics"
      ]
    },
    {
      "cell_type": "code",
      "source": [
        "%cd deep-chemometrics\n",
        "#!pip install -r requirements.txt"
      ],
      "metadata": {
        "id": "R28G_Sc2LF2S"
      },
      "execution_count": null,
      "outputs": []
    },
    {
      "cell_type": "code",
      "source": [
        "from os import path\n",
        "from google.colab import drive\n",
        "\n",
        "notebooks_dir_name = 'notebooks'\n",
        "drive.mount('/content/gdrive')\n",
        "notebooks_base_dir = path.join('./gdrive/My Drive/', notebooks_dir_name)\n",
        "if not path.exists(notebooks_base_dir):\n",
        "  print('Check your google drive directory. See you file explorer')\n",
        "\n",
        "\n",
        "with open(path.join(notebooks_base_dir, \"myfile.txt\"), \"w\") as f:\n",
        "    f.write(\"Google Colab is good!!!\")"
      ],
      "metadata": {
        "id": "HQ86xULNVJvk"
      },
      "execution_count": null,
      "outputs": []
    },
    {
      "cell_type": "code",
      "source": [
        "import scipy.io as sio\n",
        "import numpy as np\n",
        "!#wget http://www.eigenvector.com/data/tablets/index.html\n",
        "def get_xY(filename, maxx=600):\n",
        "    \n",
        "    sio.whosmat(filename)\n",
        "\n",
        "    matcontents = sio.loadmat(filename)\n",
        "    keys = matcontents.keys()\n",
        "    for key in list(keys):\n",
        "        if key[0] == '_':\n",
        "            keys.remove(key)\n",
        "            \n",
        "    keys.sort()\n",
        "            \n",
        "    d = {}            \n",
        "    for key in keys:\n",
        "        data = matcontents[key][0][0]\n",
        "        if key[-1] == \"Y\":\n",
        "            Ydata = data[5]\n",
        "            d[key] = Ydata\n",
        "        else:\n",
        "            xdata = data[5][:,:maxx]\n",
        "            d[key] = xdata\n",
        "            d[\"axisscale\"]= data[7][1][0][0][:maxx].astype(np.float)\n",
        "    return d\n",
        "\n",
        "filename = 'Dataset/nir_shootout_2002.mat'\n",
        "dataset = get_xY(filename)"
      ],
      "metadata": {
        "id": "7TjQbazWLv5h"
      },
      "execution_count": null,
      "outputs": []
    }
  ]
}